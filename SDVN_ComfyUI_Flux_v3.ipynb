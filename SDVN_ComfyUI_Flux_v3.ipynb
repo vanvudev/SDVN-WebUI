{
 "cells": [
  {
   "cell_type": "code",
   "execution_count": null,
   "metadata": {
    "cellView": "form",
    "id": "tKU6gPdMVWh4"
   },
   "outputs": [],
   "source": [
    "#@title # ⚙️ 1.Tuỳ chọn phiên bản\n",
    "#@markdown `🟢 Cập nhật 3.3, hỗ trợ đầy đủ cho Flux Tools ở chế độ Base - full` </br>\n",
    "#@markdown </br>[![](https://img.shields.io/badge/Video-Hướng%20dẫn-ff0000)](https://youtu.be/9rOWXzYtdGM) [![](https://img.shields.io/badge/Hướng%20dẫn%20-Sử%20dụng%20WebUI-5858e6)](https://stablediffusion.vn/huong-dan-chung/) [![](https://img.shields.io/badge/Tra%20cứu-Tính%20năng%20WebUI-green)](https://stablediffusion.vn/webui-catalog/) [![](https://img.shields.io/badge/Hướng%20dẫn%20-SD%20Nhập%20Môn-5858e6)](https://stablediffusion.vn/nhap-mon-stable-diffusion/)\n",
    "from google.colab import drive\n",
    "drive.mount('/content/drive')\n",
    "\n",
    "#Config\n",
    "\n",
    "SDVNFolder = '/content/SDVN-WebUI'\n",
    "if 'Version' not in globals():\n",
    "  !git clone https://github.com/StableDiffusionVN/SDVN-WebUI {SDVNFolder}\n",
    "  %env TF_CPP_MIN_LOG_LEVEL=1\n",
    "  %env LD_PRELOAD={SDVNFolder}/libtcmalloc_minimal.so.4\n",
    "  !sudo apt-get install aria2\n",
    "  !wget -c https://github.com/cloudflare/cloudflared/releases/latest/download/cloudflared-linux-amd64.deb\n",
    "  !dpkg -i cloudflared-linux-amd64.deb\n",
    "  !curl -sL https://tunnelto.dev/install.sh | sh\n",
    "  # !npm install -g localtunnel\n",
    "  test = 'test'\n",
    "\n",
    "#Option\n",
    "FastMode = True #@param {type:\"boolean\"}\n",
    "UI_Version = \"ComfyUI\"\n",
    "OptionMode = \"base\" # @param [\"base\",\"full\",\"+photo\",\"+video\",\"+dev\"] {\"allow-input\":true}\n",
    "Controlnet = \"none\" # @param [\"none\",\"base\",\"+SD15\",\"+SDXL\",\"+Flux\",\"User_list\"] {\"allow-input\":true}\n",
    "Fluxmodel = \"Flux_dev_v1-fp8\"  #@param [\"\", \"Flux_dev_v1\", \"Flux_dev_v1_fill-fp8\", \"Flux_dev_v1-fp8\", \"Flux_dev_v1-nf4\"] {allow-input: true}\n",
    "#Install\n",
    "%run /content/SDVN-WebUI/Script.ipynb"
   ]
  },
  {
   "cell_type": "code",
   "execution_count": null,
   "metadata": {
    "cellView": "form",
    "id": "izo7cpPiVWh8"
   },
   "outputs": [],
   "source": [
    "#@title # ⌛️ 2.RUN\n",
    "DriveLib = True\n",
    "CommandLine = \"\" #@param {type:\"string\"}\n",
    "install_custom()\n",
    "import time\n",
    "run_ver(Version,CommandLine)"
   ]
  }
 ],
 "metadata": {
  "accelerator": "GPU",
  "colab": {
   "cell_execution_strategy": "setup",
   "collapsed_sections": [
    "TNI-mB1xVWht"
   ],
   "gpuType": "L4",
   "machine_shape": "hm",
   "private_outputs": true,
   "provenance": []
  },
  "kernelspec": {
   "display_name": "Python 3",
   "name": "python3"
  },
  "language_info": {
   "name": "python"
  }
 },
 "nbformat": 4,
 "nbformat_minor": 0
}
